{
 "cells": [
  {
   "cell_type": "code",
   "execution_count": 18,
   "metadata": {},
   "outputs": [],
   "source": [
    "import re"
   ]
  },
  {
   "cell_type": "code",
   "execution_count": 19,
   "metadata": {},
   "outputs": [],
   "source": [
    "strr=\"The Tata Group (/ˈtɑːtɑː/) is an Indian multinational conglomerate headquartered in Mumbai.[4][5] Established largest conglomerate, with products and ser vices in over 150 countries, and operations in 100 countries across six continents.Acknowledged as the founder of the Tata Group, Jamsetji Tata is sometimes referred to as the\""
   ]
  },
  {
   "cell_type": "code",
   "execution_count": 20,
   "metadata": {},
   "outputs": [],
   "source": [
    "special_character_remover = re.compile('Indian')"
   ]
  },
  {
   "cell_type": "code",
   "execution_count": 23,
   "metadata": {},
   "outputs": [],
   "source": [
    "x=special_character_remover.sub(\"mayankmayank\",strr)"
   ]
  },
  {
   "cell_type": "code",
   "execution_count": 22,
   "metadata": {},
   "outputs": [
    {
     "data": {
      "text/plain": [
       "'The Tata Group (/ˈtɑːtɑː/) is an Indian multinational conglomerate headquartered in Mumbai.[4][5] Established largest conglomerate, with products and ser vices in over 150 countries, and operations in 100 countries across six continents.Acknowledged as the founder of the Tata Group, Jamsetji Tata is sometimes referred to as the'"
      ]
     },
     "execution_count": 22,
     "metadata": {},
     "output_type": "execute_result"
    }
   ],
   "source": [
    "strr"
   ]
  },
  {
   "cell_type": "code",
   "execution_count": 24,
   "metadata": {},
   "outputs": [
    {
     "data": {
      "text/plain": [
       "'The Tata Group (/ˈtɑːtɑː/) is an mayankmayank multinational conglomerate headquartered in Mumbai.[4][5] Established largest conglomerate, with products and ser vices in over 150 countries, and operations in 100 countries across six continents.Acknowledged as the founder of the Tata Group, Jamsetji Tata is sometimes referred to as the'"
      ]
     },
     "execution_count": 24,
     "metadata": {},
     "output_type": "execute_result"
    }
   ],
   "source": [
    "x"
   ]
  },
  {
   "cell_type": "code",
   "execution_count": 25,
   "metadata": {},
   "outputs": [],
   "source": [
    "q=re.compile(\"\\d\")"
   ]
  },
  {
   "cell_type": "code",
   "execution_count": 26,
   "metadata": {},
   "outputs": [],
   "source": [
    "matches=q.finditer(strr)"
   ]
  },
  {
   "cell_type": "code",
   "execution_count": 27,
   "metadata": {},
   "outputs": [
    {
     "name": "stdout",
     "output_type": "stream",
     "text": [
      "<re.Match object; span=(92, 93), match='4'>\n",
      "<re.Match object; span=(95, 96), match='5'>\n",
      "<re.Match object; span=(168, 169), match='1'>\n",
      "<re.Match object; span=(169, 170), match='5'>\n",
      "<re.Match object; span=(170, 171), match='0'>\n",
      "<re.Match object; span=(201, 202), match='1'>\n",
      "<re.Match object; span=(202, 203), match='0'>\n",
      "<re.Match object; span=(203, 204), match='0'>\n"
     ]
    }
   ],
   "source": [
    "for match in matches:\n",
    "    print(match)"
   ]
  },
  {
   "cell_type": "code",
   "execution_count": 28,
   "metadata": {},
   "outputs": [],
   "source": [
    "we=q.sub(\"damn\",strr)"
   ]
  },
  {
   "cell_type": "code",
   "execution_count": 29,
   "metadata": {},
   "outputs": [
    {
     "data": {
      "text/plain": [
       "'The Tata Group (/ˈtɑːtɑː/) is an Indian multinational conglomerate headquartered in Mumbai.[damn][damn] Established largest conglomerate, with products and ser vices in over damndamndamn countries, and operations in damndamndamn countries across six continents.Acknowledged as the founder of the Tata Group, Jamsetji Tata is sometimes referred to as the'"
      ]
     },
     "execution_count": 29,
     "metadata": {},
     "output_type": "execute_result"
    }
   ],
   "source": [
    "we"
   ]
  },
  {
   "cell_type": "code",
   "execution_count": null,
   "metadata": {},
   "outputs": [],
   "source": []
  }
 ],
 "metadata": {
  "kernelspec": {
   "display_name": ".venv",
   "language": "python",
   "name": "python3"
  },
  "language_info": {
   "codemirror_mode": {
    "name": "ipython",
    "version": 3
   },
   "file_extension": ".py",
   "mimetype": "text/x-python",
   "name": "python",
   "nbconvert_exporter": "python",
   "pygments_lexer": "ipython3",
   "version": "3.9.0 (tags/v3.9.0:9cf6752, Oct  5 2020, 15:34:40) [MSC v.1927 64 bit (AMD64)]"
  },
  "orig_nbformat": 4,
  "vscode": {
   "interpreter": {
    "hash": "9ff8c039cde8d16c8fd5d5cb64d0fbfa4f9dd84e7e00f8008380a6e4a2d4622e"
   }
  }
 },
 "nbformat": 4,
 "nbformat_minor": 2
}
